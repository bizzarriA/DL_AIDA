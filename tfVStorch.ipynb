{
 "cells": [
  {
   "cell_type": "markdown",
   "metadata": {
    "id": "koiO34U-lQst"
   },
   "source": [
    "# Tensorflow VS PyTorch\n",
    "In this notebook we will see some basic exercise with torch and tensorflow.\n",
    "\n",
    "We will see 3 basic exercise.\n",
    "\n",
    "\n"
   ]
  },
  {
   "cell_type": "markdown",
   "metadata": {
    "id": "Up36senPl7KQ"
   },
   "source": [
    "## import necessary libraries\n",
    "First of all we need to import the necesarry libraries."
   ]
  },
  {
   "cell_type": "code",
   "execution_count": null,
   "metadata": {
    "id": "iDo1pLEuldq8"
   },
   "outputs": [],
   "source": [
    "import torch"
   ]
  },
  {
   "cell_type": "code",
   "execution_count": null,
   "metadata": {
    "id": "nDI4xA-Pmv1u"
   },
   "outputs": [],
   "source": [
    "import tensorflow as tf"
   ]
  },
  {
   "cell_type": "markdown",
   "metadata": {
    "id": "2fM-THVvmy6-"
   },
   "source": [
    "## Exercise 1\n",
    "**Initialisation and Tensor Operations**\n",
    "\n",
    "**Goal**: Create a 2D tensor of size 3×3 containing random numbers, perform sum, product and transpose operations on it.\n",
    "### PyTorch\n",
    "- Initialise a tensor of size 3×3 with random numbers → `torch.rand(3, 3)`\n",
    "- Calculates the sum of all elements of the tensor → `tensor.sum()`\n",
    "- Calculate the product between the original tensor and its transpose → `tensor.T and torch.mm(tensor, tensor_transposed)`\n",
    "- Checks that the result is symmetric → `torch.allclose(product_tensor, product_tensor.T)`\n",
    "\n",
    "### Tensorflow\n",
    "\n",
    "-\tInitialise a tensor of size 3×3 with random numbers\n",
    "→ `tf.random.uniform((3, 3), minval=0, maxval=1)`\n",
    "- Calculate the sum of all elements of the tensor\n",
    "→ `tf.reduce_sum(tensor)`\n",
    "- Compute the product between the original tensor and its transpose\n",
    "→ `tf.transpose(tensor) and tf.matmul(tensor, tensor_transposed)`\n",
    "- Check that the result is symmetric\n",
    "→ `tf.reduce_all(tf.abs(product_tensor - tf.transpose(product_tensor)) < 1e-6)`\n",
    "\n"
   ]
  },
  {
   "cell_type": "code",
   "execution_count": null,
   "metadata": {
    "id": "VwPI4IW4nEpg"
   },
   "outputs": [],
   "source": [
    "#### PYTORCH\n",
    "\n",
    "#  Create a 2D tensor of size 3×3 containing random numbers\n",
    "tensor = ...\n",
    "print(\"Initial Tensor:\\n\", tensor)\n",
    "\n",
    "# Calculates the sum of all elements of the tensor\n",
    "sum_tensor = ...\n",
    "print(\"Sum of all elements:\\n\", sum_tensor)\n",
    "\n",
    "# Calculate the product between the original tensor and its transpose\n",
    "tensor_transposed = ...\n",
    "product_tensor = ...\n",
    "print(\"Product between the original tensor and its transpose:\\n\", product_tensor)\n",
    "\n",
    "# Checks that the result is symmetric\n",
    "is_symmetric = ...\n",
    "print(\"The result is symmetric:\", is_symmetric)"
   ]
  },
  {
   "cell_type": "code",
   "execution_count": null,
   "metadata": {
    "id": "dXm3xSDMqHmN"
   },
   "outputs": [],
   "source": [
    "#### TENSORFLOW\n",
    "\n",
    "#  Create a 2D tensor of size 3×3 containing random numbers\n",
    "tensor = ...\n",
    "print(\"Initial Tensor:\\n\", tensor)\n",
    "\n",
    "# Calculates the sum of all elements of the tensor\n",
    "sum_tensor = ...\n",
    "print(\"Sum of all elements:\\n\", sum_tensor)\n",
    "\n",
    "# Calculate the product between the original tensor and its transpose\n",
    "tensor_transposed = ...\n",
    "product_tensor = ...\n",
    "print(\"Product between the original tensor and its transpose:\\n\", product_tensor)\n",
    "\n",
    "# Checks that the result is symmetric\n",
    "is_symmetric = ...\n",
    "print(\"The result is symmetric:\", is_symmetric)"
   ]
  },
  {
   "cell_type": "markdown",
   "metadata": {
    "id": "BN3BUsa9n-sy"
   },
   "source": [
    "## Exercise 2\n",
    "\n",
    "**Autograd and Gradient Calculation**\n",
    "\n",
    "**Goal**: Define a simple function and compute gradients with respect to scalar variables.\n",
    "\n",
    "1. Define two variables `x` and `y` as scalar tensors with `requires_grad=True`.\n",
    "2. Define the function:  \n",
    "   \n",
    "   f(x, y) = 3x^2 + 2y^2 + xy\n",
    "\n",
    "3. Compute the gradient of \\( f \\) with respect to \\( x \\) and \\( y \\).\n",
    "\n",
    "### Torch\n",
    "1. `torch.tensor(2.0, requires_grad=True)`\n",
    "2. `3 * x**2 + 2 * y**2 + x * y`\n",
    "3. `f.backward()`\n",
    "\n",
    "### Tensorflow\n",
    "1. `tf.Variable(2.0)`\n",
    "2. `3 * x**2 + 2 * y**2 + x * y`\n",
    "3. `tape.gradient(f, [x, y])`\n"
   ]
  },
  {
   "cell_type": "code",
   "execution_count": null,
   "metadata": {
    "id": "Z_Y-wkmWrg8R"
   },
   "outputs": [],
   "source": [
    "### PYTORCH\n",
    "\n",
    "# Define scalar variables with requires_grad=True\n",
    "x =\n",
    "y =\n",
    "\n",
    "# Define the function\n",
    "f =\n",
    "\n",
    "# Compute gradients\n",
    "\n",
    "\n",
    "# Print gradients\n",
    "print(\"Gradient with respect to x:\", x.grad)\n",
    "print(\"Gradient with respect to y:\", y.grad)"
   ]
  },
  {
   "cell_type": "code",
   "execution_count": null,
   "metadata": {
    "id": "aqGXVLSVrwWj"
   },
   "outputs": [],
   "source": [
    "### Tensorflow\n",
    "\n",
    "# Define scalar variables\n",
    "x =\n",
    "y = tf.Variable(3.0)\n",
    "\n",
    "# Use GradientTape to track computations\n",
    "with tf.GradientTape() as tape:\n",
    "    f = ...\n",
    "\n",
    "# Compute gradients\n",
    "gradients =\n",
    "\n",
    "# Print gradients\n",
    "print(\"Gradient with respect to x:\", gradients[0].numpy())\n",
    "print(\"Gradient with respect to y:\", gradients[1].numpy())"
   ]
  },
  {
   "cell_type": "markdown",
   "metadata": {
    "id": "dm3TrLE8sbu_"
   },
   "source": [
    "## **Exercise 3**\n",
    "\n",
    "**Convolutional Neural Network (CNN) Implementation**\n",
    "\n",
    "**Goal**: Implement a simple **Convolutional Neural Network (CNN)** and train it on a benchmark dataset such as **MNIST** or **CIFAR-10**.\n",
    "\n",
    "1. Create a **CNN** with:\n",
    "   - Two convolutional layers\n",
    "   - One fully connected layer\n",
    "2. Train the model on a dataset like **MNIST** or **CIFAR-10**.\n",
    "3. Evaluate the model's performance."
   ]
  },
  {
   "cell_type": "markdown",
   "metadata": {
    "id": "HlHvtWeasxWK"
   },
   "source": [
    "### **Define the CNN Model**\n",
    "#### **Torch**\n",
    "*usefull function:*\n",
    "\n",
    "\n",
    "```python\n",
    "    nn.Conv2d(INPUT_CHANNEL, N_OUTPUT, kernel_size=3, padding=1)\n",
    "    nn.Linear(N_INPUT, N_OUTPUT)\n",
    "    torch.relu(INPUT_LAYER)\n",
    "    torch.max_pool2d(INPUT_LAYER, POOL_SIZE)\n",
    "    x.view(x.size(0), -1)  # Flatten\n",
    "```\n",
    "**note:**\n",
    "if I have 2 conv2d is maxpooling (2x2) with 32 and 63 channels respectively and input dimensions 28 × 28 (like MNIST) after conv I have 64 × 7 × 7 dimensions derived from the convolution and pooling operations that reduce the original input (1, 28, 28) into a feature map (64, 7, 7) before being flattened for the fully connected layer."
   ]
  },
  {
   "cell_type": "code",
   "execution_count": null,
   "metadata": {
    "id": "DTys0zsMtCH9"
   },
   "outputs": [],
   "source": [
    "import torch\n",
    "import torch.nn as nn\n",
    "import torch.optim as optim\n",
    "import torchvision\n",
    "import torchvision.transforms as transforms\n",
    "\n",
    "# Define CNN model\n",
    "class CNN(nn.Module):\n",
    "    def __init__(self):\n",
    "        super(CNN, self).__init__()\n",
    "        self.conv1 = ...\n",
    "\n",
    "    def forward(self, x):\n",
    "        x = ...\n",
    "        return x"
   ]
  },
  {
   "cell_type": "markdown",
   "metadata": {
    "id": "G1JLSbxjvaz9"
   },
   "source": [
    "#### **TF**\n",
    "*usefull function:*\n",
    "\n",
    "\n",
    "```python\n",
    "    tf.keras.layers.Conv2D(N_OUTPUT, (K_size, K_SIZE), activation='relu', padding='same', input_shape=(28, 28, 1)),\n",
    "    tf.keras.layers.MaxPooling2D((POOL_SIZE, POOL_SIZE)),\n",
    "    tf.keras.layers.Flatten(),\n",
    "    tf.keras.layers.Dense(N_OUTPUT, activation='softmax')\n",
    "```\n",
    "**note:** In tensorflow, the input dimension is automatically calculated from the previous layer.\n"
   ]
  },
  {
   "cell_type": "code",
   "execution_count": null,
   "metadata": {
    "id": "frE2nV5pveW1"
   },
   "outputs": [],
   "source": [
    "# Define CNN model\n",
    "modelTF = tf.keras.Sequential([\n",
    "    ...\n",
    "])"
   ]
  },
  {
   "cell_type": "markdown",
   "metadata": {
    "id": "x-_D9CN3wGu3"
   },
   "source": [
    "### **Load and preprocess Data**\n",
    "#### **Torch**\n",
    "\n",
    "*Usefull function:*\n",
    "\n",
    "\n",
    "\n",
    "```python\n",
    "transforms.Compose([transforms.ToTensor(), transforms.Normalize((0.5,), (0.5,))])\n",
    "torchvision.datasets.MNIST(root='./data', train=True, transform=transform, download=True)\n",
    "torch.utils.data.DataLoader(train_dataset, batch_size=64, shuffle=True)\n",
    "```\n",
    "\n"
   ]
  },
  {
   "cell_type": "code",
   "execution_count": null,
   "metadata": {
    "id": "jlMm6SSzwUPV"
   },
   "outputs": [],
   "source": [
    "transform = ...\n",
    "train_dataset = ...\n",
    "train_loader = ..."
   ]
  },
  {
   "cell_type": "markdown",
   "metadata": {
    "id": "LpvXa8hPwpIP"
   },
   "source": [
    "#### **TF**\n",
    "*usefull function:*\n",
    "\n",
    "\n",
    "```python\n",
    "    (x_train, y_train), _ = tf.keras.datasets.mnist.load_data()\n",
    "```\n",
    "\n"
   ]
  },
  {
   "cell_type": "code",
   "execution_count": null,
   "metadata": {
    "id": "3L0c96G5w2NT"
   },
   "outputs": [],
   "source": [
    "(x_train, y_train), _ = ...\n",
    "x_train ="
   ]
  },
  {
   "cell_type": "markdown",
   "metadata": {
    "id": "Pe3tQ1CsxZmF"
   },
   "source": [
    "### **Train the Model**\n",
    "#### **Torch**\n",
    "\n",
    "*Usefull function:*\n",
    "\n",
    "\n",
    "\n",
    "```python\n",
    "nn.CrossEntropyLoss()\n",
    "optim.Adam(model.parameters(), lr=0.001)\n",
    "\n",
    "optimizer.zero_grad()\n",
    "model(images)\n",
    "loss.backward()\n",
    "optimizer.step()\n",
    "\n",
    "```\n",
    "\n"
   ]
  },
  {
   "cell_type": "code",
   "execution_count": null,
   "metadata": {
    "id": "ZposU5cVxphw"
   },
   "outputs": [],
   "source": [
    "modelTorch = ...\n",
    "criterion = ...\n",
    "optimizer = ...\n",
    "epochs = 100\n",
    "for epoch in range(epochs):\n",
    "    for images, labels in train_loader:\n",
    "        # reset gradient to zero\n",
    "        outputs =\n",
    "        loss = criterion(outputs, labels)\n",
    "        # calculate the gradient\n",
    "        # update the weights\n",
    "print(\"Training complete.\")"
   ]
  },
  {
   "cell_type": "markdown",
   "metadata": {
    "id": "4ic16ZTFyL7g"
   },
   "source": [
    "#### **TF**\n",
    "*usefull function:*\n",
    "\n",
    "\n",
    "```python\n",
    "    model.compile(optimizer='adam', loss='sparse_categorical_crossentropy',metrics=['accuracy'])\n",
    "    model.fit(x_train, y_train, epochs=100, batch_size=64)\n",
    "```\n"
   ]
  },
  {
   "cell_type": "code",
   "execution_count": null,
   "metadata": {
    "id": "_EDEhx7cygeK"
   },
   "outputs": [],
   "source": [
    "modelTF.compile(...)\n",
    "modelTF.fit(...)\n",
    "print(\"Training complete.\")"
   ]
  }
 ],
 "metadata": {
  "colab": {
   "provenance": []
  },
  "kernelspec": {
   "display_name": "Python 3 (ipykernel)",
   "language": "python",
   "name": "python3"
  },
  "language_info": {
   "codemirror_mode": {
    "name": "ipython",
    "version": 3
   },
   "file_extension": ".py",
   "mimetype": "text/x-python",
   "name": "python",
   "nbconvert_exporter": "python",
   "pygments_lexer": "ipython3",
   "version": "3.10.15"
  }
 },
 "nbformat": 4,
 "nbformat_minor": 4
}
