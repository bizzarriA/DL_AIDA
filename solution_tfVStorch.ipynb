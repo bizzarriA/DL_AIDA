{
 "cells": [
  {
   "cell_type": "markdown",
   "metadata": {
    "id": "koiO34U-lQst"
   },
   "source": [
    "# Tensorflow VS PyTorch\n",
    "In this notebook we will see some basic exercise with torch and tensorflow.\n",
    "\n",
    "We will see 3 basic exercise.\n",
    "\n",
    "\n"
   ]
  },
  {
   "cell_type": "markdown",
   "metadata": {
    "id": "Up36senPl7KQ"
   },
   "source": [
    "## import necessary libraries\n",
    "First of all we need to import the necesarry libraries."
   ]
  },
  {
   "cell_type": "code",
   "execution_count": 1,
   "metadata": {
    "id": "iDo1pLEuldq8"
   },
   "outputs": [],
   "source": [
    "import torch"
   ]
  },
  {
   "cell_type": "code",
   "execution_count": 2,
   "metadata": {
    "id": "nDI4xA-Pmv1u"
   },
   "outputs": [],
   "source": [
    "import tensorflow as tf"
   ]
  },
  {
   "cell_type": "markdown",
   "metadata": {
    "id": "2fM-THVvmy6-"
   },
   "source": [
    "## Exercise 1\n",
    "**Initialisation and Tensor Operations**\n",
    "\n",
    "**Goal**: Create a 2D tensor of size 3×3 containing random numbers, perform sum, product and transpose operations on it.\n",
    "### PyTorch\n",
    "- Initialise a tensor of size 3×3 with random numbers → `torch.rand(3, 3)`\n",
    "- Calculates the sum of all elements of the tensor → `tensor.sum()`\n",
    "- Calculate the product between the original tensor and its transpose → `tensor.T and torch.mm(tensor, tensor_transposed)`\n",
    "- Checks that the result is symmetric → `torch.allclose(product_tensor, product_tensor.T)`\n",
    "\n",
    "### Tensorflow\n",
    "\n",
    "-\tInitialise a tensor of size 3×3 with random numbers\n",
    "→ `tf.random.uniform((3, 3), minval=0, maxval=1)`\n",
    "- Calculate the sum of all elements of the tensor\n",
    "→ `tf.reduce_sum(tensor)`\n",
    "- Compute the product between the original tensor and its transpose\n",
    "→ `tf.transpose(tensor) and tf.matmul(tensor, tensor_transposed)`\n",
    "- Check that the result is symmetric\n",
    "→ `tf.reduce_all(tf.abs(product_tensor - tf.transpose(product_tensor)) < 1e-6)`\n",
    "\n"
   ]
  },
  {
   "cell_type": "code",
   "execution_count": 3,
   "metadata": {
    "colab": {
     "base_uri": "https://localhost:8080/"
    },
    "id": "VwPI4IW4nEpg",
    "outputId": "1a1734a6-c87e-47d7-fc0e-5dfb6945abcd"
   },
   "outputs": [
    {
     "name": "stdout",
     "output_type": "stream",
     "text": [
      "Initial Tensor:\n",
      " tensor([[0.2231, 0.1905, 0.9229],\n",
      "        [0.3097, 0.9580, 0.1001],\n",
      "        [0.4894, 0.1690, 0.2521]])\n",
      "Sum of all elements:\n",
      " tensor(3.6147)\n",
      "Product between the original tensor and its transpose:\n",
      " tensor([[0.9378, 0.3439, 0.3740],\n",
      "        [0.3439, 1.0236, 0.3387],\n",
      "        [0.3740, 0.3387, 0.3316]])\n",
      "The result is symmetric: True\n"
     ]
    }
   ],
   "source": [
    "#### PYTORCH\n",
    "\n",
    "#  Create a 2D tensor of size 3×3 containing random numbers\n",
    "tensor = torch.rand(3,3)\n",
    "print(\"Initial Tensor:\\n\", tensor)\n",
    "\n",
    "# Calculates the sum of all elements of the tensor\n",
    "sum_tensor = tensor.sum()\n",
    "print(\"Sum of all elements:\\n\", sum_tensor)\n",
    "\n",
    "# Calculate the product between the original tensor and its transpose\n",
    "tensor_transposed = tensor.T\n",
    "product_tensor = torch.mm(tensor, tensor_transposed)\n",
    "print(\"Product between the original tensor and its transpose:\\n\", product_tensor)\n",
    "\n",
    "# Checks that the result is symmetric\n",
    "is_symmetric = torch.allclose(product_tensor, product_tensor.T)\n",
    "print(\"The result is symmetric:\", is_symmetric)"
   ]
  },
  {
   "cell_type": "code",
   "execution_count": 4,
   "metadata": {
    "colab": {
     "base_uri": "https://localhost:8080/"
    },
    "id": "dXm3xSDMqHmN",
    "outputId": "53b0b87a-466b-4ab4-9667-4fa0323f69ae"
   },
   "outputs": [
    {
     "name": "stdout",
     "output_type": "stream",
     "text": [
      "Initial Tensor:\n",
      " tf.Tensor(\n",
      "[[0.76907766 0.03052926 0.64520895]\n",
      " [0.13454461 0.7728865  0.17866457]\n",
      " [0.10483193 0.4702592  0.10228169]], shape=(3, 3), dtype=float32)\n",
      "Sum of all elements:\n",
      " tf.Tensor(3.2082844, shape=(), dtype=float32)\n",
      "Product between the original tensor and its transpose:\n",
      " tf.Tensor(\n",
      "[[1.008707   0.2423469  0.16097362]\n",
      " [0.2423469  0.64737684 0.3958357 ]\n",
      " [0.16097362 0.3958357  0.24259499]], shape=(3, 3), dtype=float32)\n",
      "The result is symmetric: tf.Tensor(True, shape=(), dtype=bool)\n"
     ]
    }
   ],
   "source": [
    "#### TENSORFLOW\n",
    "\n",
    "#  Create a 2D tensor of size 3×3 containing random numbers\n",
    "tensor = tf.random.uniform((3, 3), minval=0, maxval=1)\n",
    "print(\"Initial Tensor:\\n\", tensor)\n",
    "\n",
    "# Calculates the sum of all elements of the tensor\n",
    "sum_tensor = tf.reduce_sum(tensor)\n",
    "print(\"Sum of all elements:\\n\", sum_tensor)\n",
    "\n",
    "# Calculate the product between the original tensor and its transpose\n",
    "tensor_transposed = tf.transpose(tensor)\n",
    "product_tensor = tf.matmul(tensor, tensor_transposed)\n",
    "print(\"Product between the original tensor and its transpose:\\n\", product_tensor)\n",
    "\n",
    "# Checks that the result is symmetric\n",
    "is_symmetric = tf.reduce_all(tf.abs(product_tensor - tf.transpose(product_tensor)) < 1e-6)\n",
    "print(\"The result is symmetric:\", is_symmetric)"
   ]
  },
  {
   "cell_type": "markdown",
   "metadata": {
    "id": "BN3BUsa9n-sy"
   },
   "source": [
    "## Exercise 2\n",
    "\n",
    "**Autograd and Gradient Calculation**\n",
    "\n",
    "**Goal**: Define a simple function and compute gradients with respect to scalar variables.\n",
    "\n",
    "1. Define two variables `x` and `y` as scalar tensors with `requires_grad=True`.\n",
    "2. Define the function:  \n",
    "   \n",
    "   f(x, y) = 3x^2 + 2y^2 + xy\n",
    "\n",
    "3. Compute the gradient of \\( f \\) with respect to \\( x \\) and \\( y \\).\n",
    "\n",
    "### Torch\n",
    "1. `torch.tensor(2.0, requires_grad=True)`\n",
    "2. `3 * x**2 + 2 * y**2 + x * y`\n",
    "3. `f.backward()`\n",
    "\n",
    "### Tensorflow\n",
    "1. `tf.Variable(2.0)`\n",
    "2. `3 * x**2 + 2 * y**2 + x * y`\n",
    "3. `tape.gradient(f, [x, y])`\n"
   ]
  },
  {
   "cell_type": "code",
   "execution_count": 5,
   "metadata": {
    "colab": {
     "base_uri": "https://localhost:8080/"
    },
    "id": "Z_Y-wkmWrg8R",
    "outputId": "e501e2f6-51cb-454d-f1ce-e84b1d7e484e"
   },
   "outputs": [
    {
     "name": "stdout",
     "output_type": "stream",
     "text": [
      "Gradient with respect to x: tensor(15.)\n",
      "Gradient with respect to y: tensor(14.)\n"
     ]
    }
   ],
   "source": [
    "### PYTORCH\n",
    "\n",
    "# Define scalar variables with requires_grad=True\n",
    "x = torch.tensor(2.0, requires_grad=True)\n",
    "y = torch.tensor(3.0, requires_grad=True)\n",
    "\n",
    "# Define the function\n",
    "f = 3 * x**2 + 2 * y**2 + x * y\n",
    "\n",
    "# Compute gradients\n",
    "f.backward()\n",
    "\n",
    "# Print gradients\n",
    "print(\"Gradient with respect to x:\", x.grad)\n",
    "print(\"Gradient with respect to y:\", y.grad)"
   ]
  },
  {
   "cell_type": "code",
   "execution_count": 6,
   "metadata": {
    "colab": {
     "base_uri": "https://localhost:8080/"
    },
    "id": "aqGXVLSVrwWj",
    "outputId": "2b6a433a-738f-4cfb-e9b8-93dd7dc9fd44"
   },
   "outputs": [
    {
     "name": "stdout",
     "output_type": "stream",
     "text": [
      "Gradient with respect to x: 15.0\n",
      "Gradient with respect to y: 14.0\n"
     ]
    }
   ],
   "source": [
    "### Tensorflow\n",
    "\n",
    "# Define scalar variables\n",
    "x = tf.Variable(2.0)\n",
    "y = tf.Variable(3.0)\n",
    "\n",
    "# Use GradientTape to track computations\n",
    "with tf.GradientTape() as tape:\n",
    "    f = 3 * x**2 + 2 * y**2 + x * y\n",
    "\n",
    "# Compute gradients\n",
    "gradients = tape.gradient(f, [x, y])\n",
    "\n",
    "# Print gradients\n",
    "print(\"Gradient with respect to x:\", gradients[0].numpy())\n",
    "print(\"Gradient with respect to y:\", gradients[1].numpy())"
   ]
  },
  {
   "cell_type": "markdown",
   "metadata": {
    "id": "dm3TrLE8sbu_"
   },
   "source": [
    "## **Exercise 3**\n",
    "\n",
    "**Convolutional Neural Network (CNN) Implementation**\n",
    "\n",
    "**Goal**: Implement a simple **Convolutional Neural Network (CNN)** and train it on a benchmark dataset such as **MNIST** or **CIFAR-10**.\n",
    "\n",
    "1. Create a **CNN** with:\n",
    "   - Two convolutional layers\n",
    "   - One fully connected layer\n",
    "2. Train the model on a dataset like **MNIST** or **CIFAR-10**.\n",
    "3. Evaluate the model's performance."
   ]
  },
  {
   "cell_type": "markdown",
   "metadata": {
    "id": "HlHvtWeasxWK"
   },
   "source": [
    "### **Define the CNN Model**\n",
    "#### **Torch**\n",
    "*usefull function:*\n",
    "\n",
    "\n",
    "```python\n",
    "    nn.Conv2d(INPUT_CHANNEL, N_OUTPUT, kernel_size=3, padding=1)\n",
    "    nn.Linear(N_INPUT, N_OUTPUT)\n",
    "    torch.relu(INPUT_LAYER)\n",
    "    torch.max_pool2d(INPUT_LAYER, POOL_SIZE)\n",
    "    x.view(x.size(0), -1)  # Flatten\n",
    "```\n",
    "**note:**\n",
    "if I have 2 conv2d is maxpooling (2x2) with 32 and 63 channels respectively and input dimensions 28 × 28 (like MNIST) after conv I have 64 × 7 × 7 dimensions derived from the convolution and pooling operations that reduce the original input (1, 28, 28) into a feature map (64, 7, 7) before being flattened for the fully connected layer."
   ]
  },
  {
   "cell_type": "code",
   "execution_count": 7,
   "metadata": {
    "id": "DTys0zsMtCH9"
   },
   "outputs": [],
   "source": [
    "import torch\n",
    "import torch.nn as nn\n",
    "import torch.optim as optim\n",
    "import torchvision\n",
    "import torchvision.transforms as transforms\n",
    "\n",
    "# Define CNN model\n",
    "class CNN(nn.Module):\n",
    "       def __init__(self):\n",
    "           super(CNN, self).__init__()\n",
    "           self.conv1 = nn.Conv2d(1, 32, kernel_size=3, padding=1)\n",
    "           self.conv2 = nn.Conv2d(32, 64, kernel_size=3, padding=1)\n",
    "           self.fc1 = nn.Linear(64 * 7 * 7, 10)\n",
    "\n",
    "       def forward(self, x):\n",
    "           x = torch.relu(self.conv1(x))\n",
    "           x = torch.max_pool2d(x, 2)\n",
    "           x = torch.relu(self.conv2(x))\n",
    "           x = torch.max_pool2d(x, 2)\n",
    "           x = x.view(x.size(0), -1)  # Flatten\n",
    "           x = self.fc1(x)\n",
    "           return x"
   ]
  },
  {
   "cell_type": "markdown",
   "metadata": {
    "id": "G1JLSbxjvaz9"
   },
   "source": [
    "#### **TF**\n",
    "*usefull function:*\n",
    "\n",
    "\n",
    "```python\n",
    "    tf.keras.layers.Conv2D(N_OUTPUT, (K_size, K_SIZE), activation='relu', padding='same', input_shape=(28, 28, 1)),\n",
    "    tf.keras.layers.MaxPooling2D((POOL_SIZE, POOL_SIZE)),\n",
    "    tf.keras.layers.Flatten(),\n",
    "    tf.keras.layers.Dense(N_OUTPUT, activation='softmax')\n",
    "```\n",
    "**note:** In tensorflow, the input dimension is automatically calculated from the previous layer.\n"
   ]
  },
  {
   "cell_type": "code",
   "execution_count": 8,
   "metadata": {
    "colab": {
     "base_uri": "https://localhost:8080/"
    },
    "id": "frE2nV5pveW1",
    "outputId": "75f2c946-34e7-4f98-ff8d-ca798ead135b"
   },
   "outputs": [
    {
     "name": "stderr",
     "output_type": "stream",
     "text": [
      "/Users/alicebizzarri/Desktop/PhD/Presentazioni/Corsi/ml_env/lib/python3.10/site-packages/keras/src/layers/convolutional/base_conv.py:107: UserWarning: Do not pass an `input_shape`/`input_dim` argument to a layer. When using Sequential models, prefer using an `Input(shape)` object as the first layer in the model instead.\n",
      "  super().__init__(activity_regularizer=activity_regularizer, **kwargs)\n"
     ]
    }
   ],
   "source": [
    "# Define CNN model\n",
    "model = tf.keras.Sequential([\n",
    "    tf.keras.layers.Conv2D(32, (3, 3), activation='relu', padding='same', input_shape=(28, 28, 1)),\n",
    "    tf.keras.layers.MaxPooling2D((2, 2)),\n",
    "    tf.keras.layers.Conv2D(64, (3, 3), activation='relu', padding='same'),\n",
    "    tf.keras.layers.MaxPooling2D((2, 2)),\n",
    "    tf.keras.layers.Flatten(),\n",
    "    tf.keras.layers.Dense(10, activation='softmax')\n",
    "])"
   ]
  },
  {
   "cell_type": "markdown",
   "metadata": {
    "id": "x-_D9CN3wGu3"
   },
   "source": [
    "### **Load and preprocess Data**\n",
    "#### **Torch**\n",
    "\n",
    "*Usefull function:*\n",
    "\n",
    "\n",
    "\n",
    "```python\n",
    "transforms.Compose([transforms.ToTensor(), transforms.Normalize((0.5,), (0.5,))])\n",
    "torchvision.datasets.MNIST(root='./data', train=True, transform=transform, download=True)\n",
    "torch.utils.data.DataLoader(train_dataset, batch_size=64, shuffle=True)\n",
    "```\n",
    "\n"
   ]
  },
  {
   "cell_type": "code",
   "execution_count": 9,
   "metadata": {
    "colab": {
     "base_uri": "https://localhost:8080/"
    },
    "id": "jlMm6SSzwUPV",
    "outputId": "296f85ff-13a7-47fa-80c5-e3fef3842118"
   },
   "outputs": [
    {
     "name": "stderr",
     "output_type": "stream",
     "text": [
      "100.0%\n",
      "100.0%\n",
      "100.0%\n",
      "100.0%\n"
     ]
    }
   ],
   "source": [
    "transform = transforms.Compose([transforms.ToTensor(), transforms.Normalize((0.5,), (0.5,))])\n",
    "train_dataset = torchvision.datasets.MNIST(root='./data', train=True, transform=transform, download=True)\n",
    "train_loader = torch.utils.data.DataLoader(train_dataset, batch_size=64, shuffle=True)"
   ]
  },
  {
   "cell_type": "markdown",
   "metadata": {
    "id": "LpvXa8hPwpIP"
   },
   "source": [
    "#### **TF**\n",
    "*usefull function:*\n",
    "\n",
    "\n",
    "```python\n",
    "    (x_train, y_train), _ = tf.keras.datasets.mnist.load_data()\n",
    "```\n",
    "\n"
   ]
  },
  {
   "cell_type": "code",
   "execution_count": 10,
   "metadata": {
    "colab": {
     "base_uri": "https://localhost:8080/"
    },
    "id": "3L0c96G5w2NT",
    "outputId": "cd368319-fce9-4d22-c768-7d53527e0325"
   },
   "outputs": [],
   "source": [
    "(x_train, y_train), _ = tf.keras.datasets.mnist.load_data()\n",
    "x_train = x_train / 255.0  # Normalize"
   ]
  },
  {
   "cell_type": "markdown",
   "metadata": {
    "id": "Pe3tQ1CsxZmF"
   },
   "source": [
    "### **Train the Model**\n",
    "#### **Torch**\n",
    "\n",
    "*Usefull function:*\n",
    "\n",
    "\n",
    "\n",
    "```python\n",
    "nn.CrossEntropyLoss()\n",
    "optim.Adam(model.parameters(), lr=0.001)\n",
    "\n",
    "optimizer.zero_grad()\n",
    "model(images)\n",
    "loss.backward()\n",
    "optimizer.step()\n",
    "\n",
    "```\n",
    "\n"
   ]
  },
  {
   "cell_type": "code",
   "execution_count": 11,
   "metadata": {
    "colab": {
     "base_uri": "https://localhost:8080/"
    },
    "id": "ZposU5cVxphw",
    "outputId": "50361dbb-3a05-41d2-c2ee-1da945fae23e"
   },
   "outputs": [
    {
     "name": "stdout",
     "output_type": "stream",
     "text": [
      "Epoch 1/10\n",
      "Epoch 2/10\n",
      "Epoch 3/10\n",
      "Epoch 4/10\n",
      "Epoch 5/10\n",
      "Epoch 6/10\n",
      "Epoch 7/10\n",
      "Epoch 8/10\n",
      "Epoch 9/10\n",
      "Epoch 10/10\n",
      "Training complete.\n"
     ]
    }
   ],
   "source": [
    "model = CNN()\n",
    "criterion = nn.CrossEntropyLoss()\n",
    "optimizer = optim.Adam(model.parameters(), lr=0.001)\n",
    "epochs = 10\n",
    "\n",
    "for epoch in range(epochs):\n",
    "    print(f\"Epoch {epoch+1}/{epochs}\")\n",
    "    for images, labels in train_loader:\n",
    "        optimizer.zero_grad()\n",
    "        outputs = model(images)\n",
    "        loss = criterion(outputs, labels)\n",
    "        loss.backward()\n",
    "        optimizer.step()\n",
    "print(\"Training complete.\")"
   ]
  },
  {
   "cell_type": "markdown",
   "metadata": {
    "id": "4ic16ZTFyL7g"
   },
   "source": [
    "#### **TF**\n",
    "*usefull function:*\n",
    "\n",
    "\n",
    "```python\n",
    "    model.compile(optimizer='adam', loss='sparse_categorical_crossentropy',metrics=['accuracy'])\n",
    "    model.fit(x_train, y_train, epochs=100, batch_size=64)\n",
    "```\n"
   ]
  },
  {
   "cell_type": "code",
   "execution_count": 12,
   "metadata": {
    "id": "_EDEhx7cygeK"
   },
   "outputs": [
    {
     "ename": "TypeError",
     "evalue": "compile() got an unexpected keyword argument 'optimizer'",
     "output_type": "error",
     "traceback": [
      "\u001b[0;31m---------------------------------------------------------------------------\u001b[0m",
      "\u001b[0;31mTypeError\u001b[0m                                 Traceback (most recent call last)",
      "Cell \u001b[0;32mIn[12], line 1\u001b[0m\n\u001b[0;32m----> 1\u001b[0m \u001b[43mmodel\u001b[49m\u001b[38;5;241;43m.\u001b[39;49m\u001b[43mcompile\u001b[49m\u001b[43m(\u001b[49m\u001b[43moptimizer\u001b[49m\u001b[38;5;241;43m=\u001b[39;49m\u001b[38;5;124;43m'\u001b[39;49m\u001b[38;5;124;43madam\u001b[39;49m\u001b[38;5;124;43m'\u001b[39;49m\u001b[43m,\u001b[49m\u001b[43m \u001b[49m\u001b[43mloss\u001b[49m\u001b[38;5;241;43m=\u001b[39;49m\u001b[38;5;124;43m'\u001b[39;49m\u001b[38;5;124;43msparse_categorical_crossentropy\u001b[39;49m\u001b[38;5;124;43m'\u001b[39;49m\u001b[43m,\u001b[49m\u001b[43m \u001b[49m\u001b[43mmetrics\u001b[49m\u001b[38;5;241;43m=\u001b[39;49m\u001b[43m[\u001b[49m\u001b[38;5;124;43m'\u001b[39;49m\u001b[38;5;124;43maccuracy\u001b[39;49m\u001b[38;5;124;43m'\u001b[39;49m\u001b[43m]\u001b[49m\u001b[43m)\u001b[49m\n\u001b[1;32m      2\u001b[0m model\u001b[38;5;241m.\u001b[39mfit(x_train, y_train, epochs\u001b[38;5;241m=\u001b[39m\u001b[38;5;241m5\u001b[39m, batch_size\u001b[38;5;241m=\u001b[39m\u001b[38;5;241m64\u001b[39m)\n\u001b[1;32m      3\u001b[0m \u001b[38;5;28mprint\u001b[39m(\u001b[38;5;124m\"\u001b[39m\u001b[38;5;124mTraining complete.\u001b[39m\u001b[38;5;124m\"\u001b[39m)\n",
      "File \u001b[0;32m~/Desktop/PhD/Presentazioni/Corsi/ml_env/lib/python3.10/site-packages/torch/nn/modules/module.py:2991\u001b[0m, in \u001b[0;36mModule.compile\u001b[0;34m(self, *args, **kwargs)\u001b[0m\n\u001b[1;32m   2982\u001b[0m \u001b[38;5;28;01mdef\u001b[39;00m\u001b[38;5;250m \u001b[39m\u001b[38;5;21mcompile\u001b[39m(\u001b[38;5;28mself\u001b[39m, \u001b[38;5;241m*\u001b[39margs, \u001b[38;5;241m*\u001b[39m\u001b[38;5;241m*\u001b[39mkwargs):\n\u001b[1;32m   2983\u001b[0m \u001b[38;5;250m    \u001b[39m\u001b[38;5;124;03m\"\"\"\u001b[39;00m\n\u001b[1;32m   2984\u001b[0m \u001b[38;5;124;03m    Compile this Module's forward using :func:`torch.compile`.\u001b[39;00m\n\u001b[1;32m   2985\u001b[0m \n\u001b[0;32m   (...)\u001b[0m\n\u001b[1;32m   2989\u001b[0m \u001b[38;5;124;03m    See :func:`torch.compile` for details on the arguments for this function.\u001b[39;00m\n\u001b[1;32m   2990\u001b[0m \u001b[38;5;124;03m    \"\"\"\u001b[39;00m\n\u001b[0;32m-> 2991\u001b[0m     \u001b[38;5;28mself\u001b[39m\u001b[38;5;241m.\u001b[39m_compiled_call_impl \u001b[38;5;241m=\u001b[39m \u001b[43mtorch\u001b[49m\u001b[38;5;241;43m.\u001b[39;49m\u001b[43mcompile\u001b[49m\u001b[43m(\u001b[49m\u001b[38;5;28;43mself\u001b[39;49m\u001b[38;5;241;43m.\u001b[39;49m\u001b[43m_call_impl\u001b[49m\u001b[43m,\u001b[49m\u001b[43m \u001b[49m\u001b[38;5;241;43m*\u001b[39;49m\u001b[43margs\u001b[49m\u001b[43m,\u001b[49m\u001b[43m \u001b[49m\u001b[38;5;241;43m*\u001b[39;49m\u001b[38;5;241;43m*\u001b[39;49m\u001b[43mkwargs\u001b[49m\u001b[43m)\u001b[49m\n",
      "\u001b[0;31mTypeError\u001b[0m: compile() got an unexpected keyword argument 'optimizer'"
     ]
    }
   ],
   "source": [
    "model.compile(optimizer='adam', loss='sparse_categorical_crossentropy', metrics=['accuracy'])\n",
    "model.fit(x_train, y_train, epochs=5, batch_size=64)\n",
    "print(\"Training complete.\")"
   ]
  }
 ],
 "metadata": {
  "colab": {
   "provenance": []
  },
  "kernelspec": {
   "display_name": "Python 3 (ipykernel)",
   "language": "python",
   "name": "python3"
  },
  "language_info": {
   "codemirror_mode": {
    "name": "ipython",
    "version": 3
   },
   "file_extension": ".py",
   "mimetype": "text/x-python",
   "name": "python",
   "nbconvert_exporter": "python",
   "pygments_lexer": "ipython3",
   "version": "3.10.15"
  }
 },
 "nbformat": 4,
 "nbformat_minor": 4
}
